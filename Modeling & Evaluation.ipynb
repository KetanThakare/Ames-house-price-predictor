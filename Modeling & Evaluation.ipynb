{
 "cells": [
  {
   "cell_type": "code",
   "execution_count": 48,
   "metadata": {},
   "outputs": [
    {
     "name": "stdout",
     "output_type": "stream",
     "text": [
      "(1460, 81)\n",
      "(1460, 80)\n",
      "(1168, 80)\n",
      "(292, 80)\n",
      "(1168,)\n",
      "(292,)\n",
      "['LotFrontage', 'MasVnrArea', 'GarageYrBlt', 'MSSubClass', 'LotArea', 'OverallQual', 'OverallCond', 'YearBuilt', 'YearRemodAdd', 'BsmtFinSF1', 'BsmtFinSF2', 'BsmtUnfSF', 'TotalBsmtSF', '1stFlrSF', '2ndFlrSF', 'LowQualFinSF', 'GrLivArea', 'BsmtFullBath', 'BsmtHalfBath', 'FullBath', 'HalfBath', 'BedroomAbvGr', 'KitchenAbvGr', 'TotRmsAbvGrd', 'Fireplaces', 'GarageCars', 'GarageArea', 'WoodDeckSF', 'OpenPorchSF', 'EnclosedPorch', '3SsnPorch', 'ScreenPorch', 'PoolArea', 'MiscVal', 'MoSold', 'YrSold', 'age', 'MSZoning', 'Street', 'Alley', 'LotShape', 'LandContour', 'Utilities', 'LotConfig', 'LandSlope', 'Neighborhood', 'Condition1', 'Condition2', 'BldgType', 'HouseStyle', 'RoofStyle', 'RoofMatl', 'Exterior1st', 'Exterior2nd', 'MasVnrType', 'ExterQual', 'ExterCond', 'Foundation', 'BsmtQual', 'BsmtCond', 'BsmtExposure', 'BsmtFinType1', 'BsmtFinType2', 'Heating', 'HeatingQC', 'CentralAir', 'Electrical', 'KitchenQual', 'Functional', 'FireplaceQu', 'GarageType', 'GarageFinish', 'GarageQual', 'GarageCond', 'PavedDrive', 'PoolQC', 'Fence', 'MiscFeature', 'SaleType', 'SaleCondition']\n",
      "[  1.47482033e-03   3.85759216e-03   2.48553700e-03   2.14582854e-03\n",
      "   9.48580664e-03   2.19176471e-01   1.71010848e-03   9.97176878e-04\n",
      "   5.00297362e-03   1.18033256e-02   3.81114212e-04   1.63900758e-03\n",
      "   1.08861667e-02   1.24529661e-02   7.12345045e-03   2.63891849e-04\n",
      "   6.41930427e-02   5.04916554e-03   3.68224507e-04   1.89780257e-02\n",
      "   2.30549207e-03   5.83437834e-03   3.71026188e-05   6.25328774e-03\n",
      "   1.70521975e-02   1.39773363e-01   3.70535627e-03   2.56382530e-03\n",
      "   1.79006945e-03   4.15022099e-04   5.75691911e-04   4.67650466e-03\n",
      "   1.71763182e-06   3.50916931e-05   2.37861148e-03   1.94870493e-03\n",
      "   1.53597946e-03   3.15101890e-05   8.77307633e-05   1.04914468e-04\n",
      "   3.56107051e-03   2.65768998e-03   0.00000000e+00   2.87084299e-08\n",
      "   6.25848320e-04   2.63105747e-05   8.98646732e-04   1.57421407e-03\n",
      "   2.80426609e-04   1.32991787e-03   3.27579692e-03   6.02732164e-04\n",
      "   3.85768928e-04   1.49842355e-03   8.44104255e-06   0.00000000e+00\n",
      "   1.05139377e-03   6.92115209e-04   1.70456479e-04   1.69485467e-05\n",
      "   7.50037833e-04   2.40541755e-03   7.70786348e-05   6.01553584e-04\n",
      "   2.20080585e-04   0.00000000e+00   1.31848991e-04   1.99730858e-04\n",
      "   4.73710460e-04   7.89498936e-04   3.46240660e-03   1.59462297e-04\n",
      "   5.95930663e-04   2.90579018e-05   6.75086697e-05   6.36830143e-05\n",
      "   5.12907213e-04   4.52307295e-07   5.37932311e-04   2.08575459e-02\n",
      "   2.55071288e-03   7.71116289e-04   1.72294492e-04   1.55395930e-04\n",
      "   1.19894288e-04   4.85959432e-04   1.27572190e-03   1.80225435e-04\n",
      "   6.02087547e-05   2.57329437e-04   8.99141287e-05   3.70310387e-04\n",
      "   2.80206238e-06   9.51426756e-04   1.14859723e-04   3.18794648e-05\n",
      "   6.03044495e-06   7.17710749e-07   0.00000000e+00   0.00000000e+00\n",
      "   1.03235634e-05   0.00000000e+00   0.00000000e+00   0.00000000e+00\n",
      "   0.00000000e+00   0.00000000e+00   2.16131705e-03   3.41621205e-05\n",
      "   9.58036174e-05   5.21503230e-05   5.92560080e-04   5.14675087e-04\n",
      "   5.07391570e-05   4.69387371e-04   6.90796595e-07   1.79567302e-04\n",
      "   1.15275245e-03   2.85885483e-05   1.31965959e-04   9.21446706e-04\n",
      "   1.09760479e-03   1.45906348e-05   7.85949650e-04   1.61484918e-08\n",
      "   0.00000000e+00   0.00000000e+00   3.16254012e-04   1.93111266e-05\n",
      "   0.00000000e+00   5.24374473e-06   0.00000000e+00   0.00000000e+00\n",
      "   1.74080242e-05   7.17710749e-09   5.45108202e-05   1.73289002e-03\n",
      "   4.59334879e-07   5.36709621e-04   5.31511720e-04   0.00000000e+00\n",
      "   1.94378103e-03   1.16577619e-03   0.00000000e+00   1.12371871e-04\n",
      "   7.03436746e-04   7.54920530e-04   8.46394367e-05   1.63872293e-05\n",
      "   0.00000000e+00   5.31390387e-05   4.35260248e-04   0.00000000e+00\n",
      "   4.52363238e-04   2.73734936e-04   8.41267664e-06   8.30574546e-04\n",
      "   1.28485725e-04   2.75206525e-04   7.06380919e-05   1.44937754e-04\n",
      "   3.12625053e-03   5.34233305e-04   2.09833043e-03   1.21151160e-04\n",
      "   5.35611187e-04   7.50296117e-04   8.75270279e-04   2.39900040e-03\n",
      "   7.20817320e-04   1.47156478e-03   1.77669339e-01   1.00610088e-04\n",
      "   2.40175047e-04   2.22359417e-04   0.00000000e+00   1.47406337e-03\n",
      "   6.13797662e-04   3.77425902e-04   7.81342401e-04   3.57920186e-07\n",
      "   0.00000000e+00   2.69889146e-07   5.75851737e-02   2.29112306e-04\n",
      "   5.26190430e-03   1.10272649e-03   4.35656162e-04   2.95608441e-05\n",
      "   4.48569218e-08   2.84701400e-04   9.84772464e-04   2.63251010e-03\n",
      "   7.17289790e-04   1.15290530e-03   6.24071767e-04   2.55883713e-04\n",
      "   4.56445399e-03   3.31514442e-04   1.95877643e-04   2.25069481e-03\n",
      "   9.80847443e-04   2.03973292e-04   2.14117040e-06   6.54752827e-05\n",
      "   2.23707082e-04   8.55292039e-04   0.00000000e+00   6.08508352e-05\n",
      "   1.69289363e-07   4.08487465e-06   0.00000000e+00   8.67365401e-07\n",
      "   6.48125640e-04   4.29355152e-04   7.15339228e-04   0.00000000e+00\n",
      "   9.00626523e-04   3.63878310e-03   4.74223323e-03   1.22301923e-04\n",
      "   2.74184731e-05   1.42250270e-07   7.16504222e-05   1.96719208e-03\n",
      "   2.71491085e-04   1.67698737e-03   7.60688561e-03   4.00173264e-05\n",
      "   1.15130562e-04   5.30930263e-05   1.16151617e-04   3.75561609e-04\n",
      "   0.00000000e+00   1.08618752e-03   8.63148907e-04   1.47526641e-05\n",
      "   2.19526236e-03   8.29813165e-05   4.28742640e-04   3.48514772e-06\n",
      "   7.58553881e-04   2.12924956e-04   9.81803267e-04   5.05851567e-05\n",
      "   3.58488258e-03   2.36737136e-03   1.63432665e-03   3.03830482e-02\n",
      "   4.98645519e-04   2.78899916e-04   3.54190297e-05   0.00000000e+00\n",
      "   2.45246765e-04   0.00000000e+00   2.72715682e-05   2.60456793e-06\n",
      "   4.30932912e-06   1.80401748e-05   4.97876919e-04   1.47213868e-04\n",
      "   2.12300279e-04   2.33614554e-04   4.49579396e-06   1.15006035e-05\n",
      "   2.14268834e-04   3.04730617e-04   1.63749738e-04   6.46913368e-06\n",
      "   1.45738387e-05   2.40606069e-06   2.01198247e-06   1.26556329e-06\n",
      "   4.29615675e-05   7.65815160e-05   1.11125830e-04   3.80024757e-05\n",
      "   3.77538812e-05   5.96252559e-06   7.67947593e-04   1.15748203e-06\n",
      "   5.74222169e-04   4.10432574e-04   2.33255993e-08   3.84517607e-04\n",
      "   4.49468395e-04   1.27223952e-03   1.85283303e-03]\n",
      "5\n",
      "['BsmtQual_Ex', 'GrLivArea', 'GarageCars', 'ExterQual_TA', 'OverallQual']\n"
     ]
    }
   ],
   "source": [
    "%run C:/Users/admin/Desktop/EeD/Python/Project/Preprocessing.ipynb"
   ]
  },
  {
   "cell_type": "code",
   "execution_count": 49,
   "metadata": {},
   "outputs": [],
   "source": [
    "from sklearn.model_selection import cross_val_score\n",
    "from sklearn.ensemble import RandomForestRegressor\n",
    "\n",
    "def get_mae(X, y):\n",
    "    # multiple by -1 to make positive MAE score instead of neg value returned as sklearn convention\n",
    "    return -1 * cross_val_score(RandomForestRegressor(50), \n",
    "                                X, y, scoring = 'neg_mean_absolute_error').mean()"
   ]
  },
  {
   "cell_type": "code",
   "execution_count": 50,
   "metadata": {},
   "outputs": [
    {
     "name": "stdout",
     "output_type": "stream",
     "text": [
      "Train MSE:  24649.2086415\n",
      "Train RMSE:  1376222019.94\n",
      "Train R2 Score:  0.769266427087\n",
      "Test MSE:  26008.8109967\n",
      "Test RMSE:  39851.1556522\n",
      "Test R2 Score:  0.792953446318\n"
     ]
    }
   ],
   "source": [
    "from sklearn.model_selection import train_test_split\n",
    "from sklearn import linear_model as lm1\n",
    "from sklearn import metrics\n",
    "#from sklearn.linear_model import Ridge\n",
    "#from sklearn.linear_model import Lasso\n",
    "#from sklearn.linear_model import ElasticNet\n",
    "lm = lm1.LinearRegression()\n",
    "\n",
    "#split train and test data\n",
    "#X_train, X_test, y_train, y_test = train_test_split(ah_data_sf, ah_data_target, test_size = 0.75, random_state = 7) \n",
    "\n",
    "\n",
    "#fit the multiple linear regression model\n",
    "lm.fit(train_X, train_y)\n",
    "\n",
    "#make predictions on the testing set\n",
    "y_train_pred = lm.predict(train_X)\n",
    "y_test_pred = lm.predict(val_X)\n",
    "print(\"Train MSE: \", metrics.mean_absolute_error(train_y, y_train_pred))\n",
    "print(\"Train RMSE: \", metrics.mean_squared_error(train_y, y_train_pred))\n",
    "print(\"Train R2 Score: \", metrics.r2_score(train_y,y_train_pred))\n",
    "print(\"Test MSE: \", metrics.mean_absolute_error(val_y, y_test_pred))\n",
    "print(\"Test RMSE: \", np.sqrt(metrics.mean_squared_error(val_y, y_test_pred)))\n",
    "print(\"Test R2 Score: \", metrics.r2_score(val_y,y_test_pred))\n",
    "\n",
    "#print(get_mae(train_X, train_y))\n",
    "#print(get_mae(val_X, val_y))"
   ]
  },
  {
   "cell_type": "code",
   "execution_count": 51,
   "metadata": {},
   "outputs": [
    {
     "name": "stdout",
     "output_type": "stream",
     "text": [
      "Train MSE:  24649.2120661\n",
      "Train RMSE:  1376222019.98\n",
      "Train R2 Score:  0.769266427081\n",
      "Test MSE:  26008.8110656\n",
      "Test RMSE:  39851.1688577\n",
      "Test R2 Score:  0.7929533091\n",
      "25061.6974023\n",
      "28493.240242\n"
     ]
    }
   ],
   "source": [
    "#fitting Ridge Regression Model\n",
    "from sklearn import linear_model\n",
    "lr = linear_model.Ridge(alpha = 0.001)\n",
    "lr.fit(train_X, train_y)\n",
    "\n",
    "#make predictions and evaluate\n",
    "y_train_pred2 = lr.predict(train_X)\n",
    "y_test_pred2 = lr.predict(val_X)\n",
    "print(\"Train MSE: \", metrics.mean_absolute_error(train_y, y_train_pred2))\n",
    "print(\"Train RMSE: \", metrics.mean_squared_error(train_y, y_train_pred2))\n",
    "print(\"Train R2 Score: \", metrics.r2_score(train_y,y_train_pred2))\n",
    "print(\"Test MSE: \", metrics.mean_absolute_error(val_y, y_test_pred2))\n",
    "print(\"Test RMSE: \", np.sqrt(metrics.mean_squared_error(val_y, y_test_pred2)))\n",
    "print(\"Test R2 Score: \", metrics.r2_score(val_y,y_test_pred2))\n",
    "\n",
    "print(get_mae(train_X, train_y))\n",
    "print(get_mae(val_X, val_y))"
   ]
  },
  {
   "cell_type": "code",
   "execution_count": 52,
   "metadata": {},
   "outputs": [
    {
     "name": "stdout",
     "output_type": "stream",
     "text": [
      "Train MSE:  24649.2086362\n",
      "Train RMSE:  1376222019.94\n",
      "Train R2 Score:  0.769266427087\n",
      "Test MSE:  26008.8109663\n",
      "Test RMSE:  39851.1556639\n",
      "Test R2 Score:  0.792953446196\n"
     ]
    }
   ],
   "source": [
    "#fitting the LASSO Regression Model\n",
    "ls = linear_model.Lasso(alpha = 0.0001)\n",
    "ls.fit(train_X, train_y)\n",
    "#make predictions and evaluate\n",
    "y_train_pred3 = ls.predict(train_X)\n",
    "y_test_pred3 = ls.predict(val_X)\n",
    "print(\"Train MSE: \", metrics.mean_absolute_error(train_y, y_train_pred3))\n",
    "print(\"Train RMSE: \", metrics.mean_squared_error(train_y, y_train_pred3))\n",
    "print(\"Train R2 Score: \", metrics.r2_score(train_y,y_train_pred3))\n",
    "print(\"Test MSE: \", metrics.mean_absolute_error(val_y, y_test_pred3))\n",
    "print(\"Test RMSE: \", np.sqrt(metrics.mean_squared_error(val_y, y_test_pred3)))\n",
    "print(\"Test R2 Score: \", metrics.r2_score(val_y,y_test_pred3))\n"
   ]
  },
  {
   "cell_type": "code",
   "execution_count": 46,
   "metadata": {},
   "outputs": [
    {
     "name": "stdout",
     "output_type": "stream",
     "text": [
      "Train MSE:  24650.5939809\n",
      "Train RMSE:  1376227833.97\n",
      "Train R2 Score:  0.769265452323\n",
      "Test MSE:  26008.8238599\n",
      "Test RMSE:  39856.585323\n",
      "Test R2 Score:  0.792897022799\n"
     ]
    }
   ],
   "source": [
    "en = linear_model.ElasticNet(alpha = 0.001, l1_ratio = 0.65)\n",
    "en.fit(train_X, train_y)\n",
    "#make predictions and evaluate\n",
    "y_train_pred4 = en.predict(train_X)\n",
    "y_test_pred4 = en.predict(val_X)\n",
    "print(\"Train MSE: \", metrics.mean_absolute_error(train_y, y_train_pred4))\n",
    "print(\"Train RMSE: \", metrics.mean_squared_error(train_y, y_train_pred4))\n",
    "print(\"Train R2 Score: \", metrics.r2_score(train_y,y_train_pred4))\n",
    "print(\"Test MSE: \", metrics.mean_absolute_error(val_y, y_test_pred4))\n",
    "print(\"Test RMSE: \", np.sqrt(metrics.mean_squared_error(val_y, y_test_pred4)))\n",
    "print(\"Test R2 Score: \", metrics.r2_score(val_y,y_test_pred4))\n"
   ]
  },
  {
   "cell_type": "code",
   "execution_count": 47,
   "metadata": {},
   "outputs": [
    {
     "name": "stdout",
     "output_type": "stream",
     "text": [
      "Train MSE:  24649.2086415\n",
      "Train RMSE:  1376222019.94\n",
      "Train R2 Score:  0.769266427087\n",
      "Test MSE:  26008.8109967\n",
      "Test RMSE:  39851.1556522\n",
      "Test R2 Score:  0.792953446318\n"
     ]
    }
   ],
   "source": [
    "import xgboost as xg\n",
    "max_depth = 5\n",
    "min_child_weight = 5\n",
    "subsample = 1\n",
    "objective = 'reg:linear'\n",
    "num_estimators = 10000\n",
    "learning_rate = 0.01\n",
    "\n",
    "features = train_X\n",
    "target = train_y\n",
    "clf = xg.XGBRegressor(max_depth=max_depth,\n",
    "                min_child_weight=min_child_weight,\n",
    "                subsample=subsample,\n",
    "                n_estimators=num_estimators,\n",
    "                learning_rate=learning_rate)\n",
    "clf.fit(features, target)\n",
    "\n",
    "y_train_pred9 = clf.predict(train_X, output_margin=False, ntree_limit=0)\n",
    "y_test_pred9 = clf.predict(val_X, output_margin=False, ntree_limit=0)\n",
    "print(\"Train MSE: \", metrics.mean_absolute_error(train_y, y_train_pred))\n",
    "print(\"Train RMSE: \", metrics.mean_squared_error(train_y, y_train_pred))\n",
    "print(\"Train R2 Score: \", metrics.r2_score(train_y,y_train_pred))\n",
    "print(\"Test MSE: \", metrics.mean_absolute_error(val_y, y_test_pred))\n",
    "print(\"Test RMSE: \", np.sqrt(metrics.mean_squared_error(val_y, y_test_pred)))\n",
    "print(\"Test R2 Score: \", metrics.r2_score(val_y,y_test_pred))\n",
    "\n",
    "\n"
   ]
  },
  {
   "cell_type": "code",
   "execution_count": null,
   "metadata": {},
   "outputs": [],
   "source": []
  }
 ],
 "metadata": {
  "kernelspec": {
   "display_name": "Python 3",
   "language": "python",
   "name": "python3"
  },
  "language_info": {
   "codemirror_mode": {
    "name": "ipython",
    "version": 3
   },
   "file_extension": ".py",
   "mimetype": "text/x-python",
   "name": "python",
   "nbconvert_exporter": "python",
   "pygments_lexer": "ipython3",
   "version": "3.6.4"
  }
 },
 "nbformat": 4,
 "nbformat_minor": 2
}
