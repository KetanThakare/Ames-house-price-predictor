{
 "cells": [
  {
   "cell_type": "code",
   "execution_count": 15,
   "metadata": {},
   "outputs": [
    {
     "name": "stdout",
     "output_type": "stream",
     "text": [
      "[8.57524322e-03 1.88883990e-02 1.93219955e-02 1.38695115e-02\n",
      " 9.83899967e-03 1.64104661e-02 1.60283129e-02 1.37872793e-02\n",
      " 1.67041053e-02 4.03335108e-03 1.97271942e-02 1.69880217e-02\n",
      " 1.83832052e-02 1.10206581e-02 1.77891041e-03 1.92224861e-02\n",
      " 9.10963609e-03 3.13436054e-03 5.38128330e-03 7.81530310e-03\n",
      " 1.01519884e-02 2.28094880e-03 1.54349838e-02 1.01977751e-02\n",
      " 1.59063825e-02 8.02494093e-03 1.75721089e-02 1.66537704e-02\n",
      " 1.52448504e-02 5.88378093e-03 2.64393807e-03 4.59109757e-03\n",
      " 2.02759161e-04 3.17726372e-03 2.18799581e-02 1.86212060e-02\n",
      " 3.24253463e-04 1.61766479e-03 1.79285512e-03 3.98049550e-03\n",
      " 3.13249573e-03 5.42361661e-04 6.46529698e-04 1.46510394e-03\n",
      " 1.98678510e-03 9.07283598e-03 2.42952742e-03 1.10417141e-03\n",
      " 9.19444359e-03 2.56784509e-03 2.10261925e-03 1.82369197e-03\n",
      " 2.99356895e-03 1.71753372e-04 1.18824370e-04 7.45469276e-03\n",
      " 3.54947231e-03 3.17391733e-03 4.02264256e-04 9.68415727e-03\n",
      " 2.26078459e-03 2.28971807e-03 8.84613372e-04 7.24426990e-04\n",
      " 1.35564817e-04 5.06095561e-04 2.12510866e-03 1.53587126e-03\n",
      " 4.18931658e-03 2.12636197e-03 3.00574726e-03 2.61205870e-03\n",
      " 1.02315253e-03 5.65437441e-04 2.55922056e-03 3.97691737e-03\n",
      " 3.29664234e-04 2.98175701e-03 1.64062923e-03 1.81947286e-03\n",
      " 3.15513770e-03 1.23944433e-03 3.17041359e-03 3.25007214e-03\n",
      " 2.15249997e-03 1.27382386e-03 2.15019205e-03 8.63055634e-04\n",
      " 2.62096128e-03 3.49531933e-03 5.06655306e-03 2.62896209e-04\n",
      " 1.31854079e-03 9.45801113e-04 2.43074067e-03 3.68895588e-04\n",
      " 4.86207540e-04 1.03333277e-04 2.42119503e-04 6.92433353e-04\n",
      " 0.00000000e+00 1.21953327e-04 0.00000000e+00 4.10569211e-04\n",
      " 5.29179458e-04 3.58235142e-03 1.23129640e-03 1.34059467e-03\n",
      " 1.62891708e-03 3.26578854e-03 3.50929574e-03 1.26101697e-03\n",
      " 6.00277308e-03 1.15254171e-03 8.91251312e-04 5.18718971e-03\n",
      " 1.38824886e-03 2.75764858e-03 7.80067506e-04 7.33506085e-03\n",
      " 8.17080803e-04 6.37225088e-03 2.74186896e-04 5.67877130e-05\n",
      " 1.02302572e-04 6.22675002e-04 5.59259217e-05 2.55152939e-04\n",
      " 1.71111937e-04 2.58653290e-04 1.81628669e-04 7.27962589e-04\n",
      " 5.28603841e-04 1.69431848e-04 5.75700786e-05 2.22697149e-03\n",
      " 2.37002361e-04 2.23591394e-03 6.03031726e-03 1.72422847e-04\n",
      " 5.05153197e-03 2.89133191e-03 4.30004791e-04 1.89377620e-03\n",
      " 4.79373345e-03 5.19921087e-03 2.17896133e-03 1.32320535e-03\n",
      " 4.58180487e-04 2.10120382e-04 1.07944067e-03 4.57575723e-05\n",
      " 2.71497229e-03 4.42692768e-03 1.27638433e-03 5.18310237e-03\n",
      " 4.07419150e-04 3.72671954e-03 8.36415280e-04 1.07605293e-03\n",
      " 6.23927798e-03 4.27333832e-03 1.56435032e-03 9.69504684e-04\n",
      " 7.64041493e-03 7.22861839e-03 3.78295835e-03 1.54816703e-03\n",
      " 1.09485391e-04 3.52008964e-03 3.94356846e-03 1.10185479e-04\n",
      " 1.26808767e-03 4.59940203e-03 1.06284766e-04 4.54819861e-03\n",
      " 2.62939292e-03 4.84821939e-03 3.37526241e-03 1.16050188e-03\n",
      " 4.73374496e-04 3.23488968e-04 2.20041364e-03 1.40920651e-03\n",
      " 6.18844706e-03 4.56065260e-03 1.93801526e-03 3.18149091e-03\n",
      " 8.37384780e-05 3.39190886e-03 5.54870147e-03 4.03630469e-03\n",
      " 5.17140430e-03 7.99060731e-03 6.14341766e-03 5.44233754e-03\n",
      " 6.02480470e-03 2.83757137e-03 3.32020448e-03 7.43768597e-03\n",
      " 1.28016712e-03 2.61504305e-03 8.38234170e-04 3.12682107e-03\n",
      " 2.14542044e-03 3.55217060e-03 1.53092048e-04 1.37242833e-03\n",
      " 6.20364931e-04 6.40636795e-04 3.01691860e-04 3.77959769e-04\n",
      " 6.73845403e-03 2.26905773e-03 6.52188310e-03 1.13379660e-04\n",
      " 5.73379640e-03 1.62018659e-03 2.20887709e-03 2.22681721e-03\n",
      " 1.14392277e-03 1.38490537e-04 1.22313836e-04 2.72507078e-03\n",
      " 3.11886477e-03 1.77193077e-03 6.18193579e-03 5.75852470e-03\n",
      " 1.12172082e-03 5.33801699e-04 1.51481222e-03 1.80857783e-03\n",
      " 9.79224129e-04 5.72947243e-05 2.71518963e-03 1.92480571e-03\n",
      " 2.46711192e-03 6.68794952e-03 1.65838908e-03 5.75211284e-03\n",
      " 5.72839052e-04 7.35318209e-03 9.43731977e-04 2.95755145e-03\n",
      " 8.71368885e-04 5.00696259e-03 5.69707713e-03 7.62983967e-03\n",
      " 5.93562281e-03 3.60518261e-04 1.03553426e-03 9.35497773e-04\n",
      " 3.84107075e-04 2.20773769e-03 2.88350532e-04 1.66073379e-03\n",
      " 5.40237649e-04 4.33968799e-04 1.68585448e-03 1.96733304e-03\n",
      " 7.35668037e-04 1.66251677e-03 4.31071202e-04 3.93452032e-04\n",
      " 1.18301434e-04 2.81721951e-03 2.92356048e-03 4.57285956e-03\n",
      " 1.40909191e-03 1.00884277e-04 1.90826861e-04 1.04446633e-04\n",
      " 1.59258763e-04 2.81879220e-03 5.47487772e-04 2.48640012e-04\n",
      " 5.47113339e-04 3.98561544e-04 8.17794828e-04 3.23791252e-03\n",
      " 6.32040341e-04 4.86209475e-03 5.32067919e-03 3.23939202e-04\n",
      " 4.83954049e-04 1.32000647e-03 6.99640870e-03 2.01764609e-03]\n"
     ]
    }
   ],
   "source": [
    "%run C:/Users/admin/Desktop/EeD/Python/Project/Preprocessing.ipynb"
   ]
  },
  {
   "cell_type": "code",
   "execution_count": 21,
   "metadata": {},
   "outputs": [],
   "source": [
    "ah_data_target = ah_data['SalePrice']\n",
    "ah_data_sf = pd.get_dummies(ah_data_sf)"
   ]
  },
  {
   "cell_type": "code",
   "execution_count": 57,
   "metadata": {},
   "outputs": [
    {
     "name": "stdout",
     "output_type": "stream",
     "text": [
      "Train MSE:  28959.960899042107\n",
      "Test MSE:  31834.244640582892\n",
      "Test RMSE:  45973.928931541974\n"
     ]
    }
   ],
   "source": [
    "from sklearn.model_selection import train_test_split\n",
    "from sklearn import linear_model\n",
    "from sklearn import metrics\n",
    "#from sklearn.linear_model import Ridge\n",
    "#from sklearn.linear_model import Lasso\n",
    "#from sklearn.linear_model import ElasticNet\n",
    "lm = linear_model.LinearRegression()\n",
    "\n",
    "#split train and test data\n",
    "X_train, X_test, y_train, y_test = train_test_split(ah_data_sf, ah_data_target, test_size = 0.6, random_state = 10) \n",
    "\n",
    "\n",
    "#fit the multiple linear regression model\n",
    "lm.fit(X_train, y_train)\n",
    "\n",
    "#make predictions on the testing set\n",
    "y_train_pred = lm.predict(X_train)\n",
    "y_test_pred = lm.predict(X_test)\n",
    "print(\"Train MSE: \", metrics.mean_absolute_error(y_train, y_train_pred))\n",
    "print(\"Test MSE: \", metrics.mean_absolute_error(y_test, y_test_pred))\n",
    "print(\"Test RMSE: \", np.sqrt(metrics.mean_squared_error(y_test, y_test_pred)))\n"
   ]
  },
  {
   "cell_type": "code",
   "execution_count": 58,
   "metadata": {},
   "outputs": [
    {
     "name": "stdout",
     "output_type": "stream",
     "text": [
      "Train MSE:  28959.96046035168\n",
      "Test MSE:  31834.23381351325\n",
      "Train RMSE:  45973.91784899881\n"
     ]
    }
   ],
   "source": [
    "#fitting Ridge Regression Model\n",
    "lr = linear_model.Ridge(alpha = 0.001)\n",
    "lr.fit(X_train, y_train)\n",
    "\n",
    "#make predictions and evaluate\n",
    "y_train_pred2 = lr.predict(X_train)\n",
    "y_test_pred2 = lr.predict(X_test)\n",
    "print(\"Train MSE: \", metrics.mean_absolute_error(y_train, y_train_pred2))\n",
    "print(\"Test MSE: \", metrics.mean_absolute_error(y_test, y_test_pred2))\n",
    "print(\"Train RMSE: \", np.sqrt(metrics.mean_squared_error(y_test, y_test_pred2)))\n"
   ]
  },
  {
   "cell_type": "code",
   "execution_count": 59,
   "metadata": {},
   "outputs": [
    {
     "name": "stdout",
     "output_type": "stream",
     "text": [
      "Train MSE:  28959.958374835798\n",
      "Test MSE:  31834.240629523927\n",
      "Train RMSE:  45973.92424980893\n"
     ]
    },
    {
     "name": "stderr",
     "output_type": "stream",
     "text": [
      "C:\\Users\\admin\\Anaconda3\\lib\\site-packages\\sklearn\\linear_model\\coordinate_descent.py:491: ConvergenceWarning: Objective did not converge. You might want to increase the number of iterations. Fitting data with very small alpha may cause precision problems.\n",
      "  ConvergenceWarning)\n"
     ]
    }
   ],
   "source": [
    "#fitting the LASSO Regression Model\n",
    "ls = linear_model.Lasso(alpha = 0.001)\n",
    "ls.fit(X_train, y_train)\n",
    "#make predictions and evaluate\n",
    "y_train_pred3 = ls.predict(X_train)\n",
    "y_test_pred3 = ls.predict(X_test)\n",
    "print(\"Train MSE: \", metrics.mean_absolute_error(y_train, y_train_pred3))\n",
    "print(\"Test MSE: \", metrics.mean_absolute_error(y_test, y_test_pred3))\n",
    "print(\"Train RMSE: \", np.sqrt(metrics.mean_squared_error(y_test, y_test_pred3)))\n"
   ]
  },
  {
   "cell_type": "code",
   "execution_count": 61,
   "metadata": {},
   "outputs": [
    {
     "name": "stdout",
     "output_type": "stream",
     "text": [
      "Train MSE:  28985.098630361277\n",
      "Test MSE:  31679.899582975762\n",
      "Train RMSE:  45858.55369334189\n"
     ]
    },
    {
     "name": "stderr",
     "output_type": "stream",
     "text": [
      "C:\\Users\\admin\\Anaconda3\\lib\\site-packages\\sklearn\\linear_model\\coordinate_descent.py:491: ConvergenceWarning: Objective did not converge. You might want to increase the number of iterations. Fitting data with very small alpha may cause precision problems.\n",
      "  ConvergenceWarning)\n"
     ]
    }
   ],
   "source": [
    "en = linear_model.ElasticNet(alpha = 0.1, l1_ratio = 0.5)\n",
    "en.fit(X_train, y_train)\n",
    "#make predictions and evaluate\n",
    "y_train_pred4 = en.predict(X_train)\n",
    "y_test_pred4 = en.predict(X_test)\n",
    "print(\"Train MSE: \", metrics.mean_absolute_error(y_train, y_train_pred4))\n",
    "print(\"Test MSE: \", metrics.mean_absolute_error(y_test, y_test_pred4))\n",
    "print(\"Train RMSE: \", np.sqrt(metrics.mean_squared_error(y_test, y_test_pred4)))\n"
   ]
  },
  {
   "cell_type": "code",
   "execution_count": 49,
   "metadata": {},
   "outputs": [
    {
     "data": {
      "text/html": [
       "<div>\n",
       "<style scoped>\n",
       "    .dataframe tbody tr th:only-of-type {\n",
       "        vertical-align: middle;\n",
       "    }\n",
       "\n",
       "    .dataframe tbody tr th {\n",
       "        vertical-align: top;\n",
       "    }\n",
       "\n",
       "    .dataframe thead th {\n",
       "        text-align: right;\n",
       "    }\n",
       "</style>\n",
       "<table border=\"1\" class=\"dataframe\">\n",
       "  <thead>\n",
       "    <tr style=\"text-align: right;\">\n",
       "      <th></th>\n",
       "      <th>MAE_train</th>\n",
       "      <th>MAE_test</th>\n",
       "      <th>RMSE_test</th>\n",
       "    </tr>\n",
       "  </thead>\n",
       "  <tbody>\n",
       "    <tr>\n",
       "      <th>Linear</th>\n",
       "      <td>30164.467470</td>\n",
       "      <td>30534.610884</td>\n",
       "      <td>45650.112138</td>\n",
       "    </tr>\n",
       "    <tr>\n",
       "      <th>Ridge</th>\n",
       "      <td>30164.463252</td>\n",
       "      <td>30534.612164</td>\n",
       "      <td>45650.112158</td>\n",
       "    </tr>\n",
       "    <tr>\n",
       "      <th>Lasso</th>\n",
       "      <td>30164.467144</td>\n",
       "      <td>30534.608965</td>\n",
       "      <td>45650.109643</td>\n",
       "    </tr>\n",
       "  </tbody>\n",
       "</table>\n",
       "</div>"
      ],
      "text/plain": [
       "           MAE_train      MAE_test     RMSE_test\n",
       "Linear  30164.467470  30534.610884  45650.112138\n",
       "Ridge   30164.463252  30534.612164  45650.112158\n",
       "Lasso   30164.467144  30534.608965  45650.109643"
      ]
     },
     "execution_count": 49,
     "metadata": {},
     "output_type": "execute_result"
    }
   ],
   "source": [
    "mae_train = [metrics.mean_absolute_error(y_train, y_train_pred), metrics.mean_absolute_error(y_train, y_train_pred2), metrics.mean_absolute_error(y_train, y_train_pred3)]\n",
    "\n",
    "mae_test = [metrics.mean_absolute_error(y_test, y_test_pred),metrics.mean_absolute_error(y_test, y_test_pred2),metrics.mean_absolute_error(y_test, y_test_pred3)]\n",
    "\n",
    "rmse_test = [np.sqrt(metrics.mean_squared_error(y_test, y_test_pred)), np.sqrt(metrics.mean_squared_error(y_test, y_test_pred2)), np.sqrt(metrics.mean_squared_error(y_test, y_test_pred3))]\n",
    "\n",
    "df = {\"MAE_train\": mae_train, \"MAE_test\": mae_test, \"RMSE_test\":rmse_test}\n",
    "\n",
    "evaluation_table = pd.DataFrame(data = df)\n",
    "mapper = {0:\"Linear\", 1:\"Ridge\", 2:\"Lasso\"}\n",
    "evaluation_table.rename(mapper = mapper, axis='index', copy=True, inplace=True)\n",
    "evaluation_table"
   ]
  }
 ],
 "metadata": {
  "kernelspec": {
   "display_name": "Python 3",
   "language": "python",
   "name": "python3"
  },
  "language_info": {
   "codemirror_mode": {
    "name": "ipython",
    "version": 3
   },
   "file_extension": ".py",
   "mimetype": "text/x-python",
   "name": "python",
   "nbconvert_exporter": "python",
   "pygments_lexer": "ipython3",
   "version": "3.6.4"
  }
 },
 "nbformat": 4,
 "nbformat_minor": 2
}
