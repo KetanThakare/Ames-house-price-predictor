{
 "cells": [
  {
   "cell_type": "code",
   "execution_count": 8,
   "metadata": {},
   "outputs": [],
   "source": [
    "%%capture\n",
    "#importing the notebook where we had done preprocessing\n",
    "%run C:/Users/admin/Desktop/EeD/Python/Project/Preprocessing.ipynb"
   ]
  },
  {
   "cell_type": "code",
   "execution_count": 9,
   "metadata": {},
   "outputs": [],
   "source": [
    "%%capture\n",
    "#importing the notebook where we had done EDA\n",
    "%run C:/Users/admin/Desktop/EeD/Python/Project/Exploratory_Data_Analysis.ipynb"
   ]
  },
  {
   "cell_type": "code",
   "execution_count": 10,
   "metadata": {},
   "outputs": [],
   "source": [
    "#using only those features in regression analysis whcih we have selected in EDA\n",
    "imp_features = impfeatures_int + impfeatures_char\n",
    "train_X = train_X[imp_features]\n",
    "val_X = val_X[imp_features]\n",
    "#one hot encoding the character variables\n",
    "train_X = pd.get_dummies(train_X)\n",
    "val_X = pd.get_dummies(val_X) "
   ]
  },
  {
   "cell_type": "code",
   "execution_count": 11,
   "metadata": {},
   "outputs": [
    {
     "name": "stdout",
     "output_type": "stream",
     "text": [
      "['HeatingQC_Po']\n"
     ]
    }
   ],
   "source": [
    "trainxcols = train_X.columns.tolist()\n",
    "valxcols = val_X.columns.tolist()\n",
    "#if number of columns in train and test dataset are not same, there will be error\n",
    "diff = list(set(trainxcols) - set(valxcols))\n",
    "print(diff)\n"
   ]
  },
  {
   "cell_type": "code",
   "execution_count": 13,
   "metadata": {},
   "outputs": [],
   "source": [
    "#val_X['GarageType_2Types'] = 0\n",
    "val_X['HeatingQC_Po'] = 0\n",
    "#val_X['Neighborhood_Blueste'] = 0"
   ]
  },
  {
   "cell_type": "code",
   "execution_count": 14,
   "metadata": {},
   "outputs": [
    {
     "name": "stdout",
     "output_type": "stream",
     "text": [
      "[]\n"
     ]
    }
   ],
   "source": [
    "#ensuring that the number of columns in train and test dataset are same\n",
    "trainxcols = train_X.columns.tolist()\n",
    "valxcols = val_X.columns.tolist()\n",
    "diff = list(set(trainxcols) - set(valxcols))\n",
    "print(diff)\n"
   ]
  },
  {
   "cell_type": "code",
   "execution_count": 15,
   "metadata": {},
   "outputs": [],
   "source": [
    "#creating a custom function which returns mean absolute error \n",
    "from sklearn.model_selection import cross_val_score\n",
    "from sklearn.ensemble import RandomForestRegressor\n",
    "\n",
    "def get_mae(X, y):\n",
    "    # multiple by -1 to make positive MAE score instead of neg value returned as sklearn convention\n",
    "    return -1 * cross_val_score(RandomForestRegressor(50), \n",
    "                                X, y, scoring = 'neg_mean_absolute_error').mean()"
   ]
  },
  {
   "cell_type": "code",
   "execution_count": 16,
   "metadata": {},
   "outputs": [
    {
     "name": "stdout",
     "output_type": "stream",
     "text": [
      "Train MSE:  20798.6684045\n",
      "Train RMSE:  1121027458.28\n",
      "Train R2 Score:  0.816975681691\n",
      "Test MSE:  21637.6286615\n",
      "Test RMSE:  35549.6425343\n",
      "Test R2 Score:  0.817896931962\n",
      "19932.3081721\n",
      "22006.3660699\n"
     ]
    }
   ],
   "source": [
    "#Creating Linear Regression Model\n",
    "#importing necessary modules from sci-kit learn\n",
    "from sklearn import linear_model as lm1\n",
    "from sklearn import metrics\n",
    "lm = lm1.LinearRegression()\n",
    "\n",
    "#fitting the multiple linear regression model\n",
    "lm.fit(train_X, train_y)\n",
    "\n",
    "#making predictions on the testing & test set\n",
    "y_train_pred = lm.predict(train_X)\n",
    "y_test_pred = lm.predict(val_X)\n",
    "\n",
    "#printing the results\n",
    "print(\"Train MSE: \", metrics.mean_absolute_error(train_y, y_train_pred))\n",
    "print(\"Train RMSE: \", metrics.mean_squared_error(train_y, y_train_pred))\n",
    "print(\"Train R2 Score: \", metrics.r2_score(train_y,y_train_pred))\n",
    "print(\"Test MSE: \", metrics.mean_absolute_error(val_y, y_test_pred))\n",
    "print(\"Test RMSE: \", np.sqrt(metrics.mean_squared_error(val_y, y_test_pred)))\n",
    "print(\"Test R2 Score: \", metrics.r2_score(val_y,y_test_pred))\n",
    "\n",
    "print(get_mae(train_X, train_y))\n",
    "print(get_mae(val_X, val_y))"
   ]
  },
  {
   "cell_type": "code",
   "execution_count": 18,
   "metadata": {},
   "outputs": [
    {
     "name": "stdout",
     "output_type": "stream",
     "text": [
      "Train MSE:  20778.4783753\n",
      "Train RMSE:  1121507510.52\n",
      "Train R2 Score:  0.81689730606\n",
      "Test MSE:  20235.5264777\n",
      "Test RMSE:  34567.6770926\n",
      "Test R2 Score:  0.827818225439\n"
     ]
    },
    {
     "name": "stderr",
     "output_type": "stream",
     "text": [
      "C:\\Users\\admin\\Anaconda3\\lib\\site-packages\\sklearn\\linear_model\\coordinate_descent.py:491: ConvergenceWarning: Objective did not converge. You might want to increase the number of iterations. Fitting data with very small alpha may cause precision problems.\n",
      "  ConvergenceWarning)\n"
     ]
    }
   ],
   "source": [
    "#Creating ElasticNet Regression Model\n",
    "en = linear_model.ElasticNet(alpha = 0.01, l1_ratio = 0.8)\n",
    "en.fit(train_X, train_y)\n",
    "\n",
    "#making predictions on train and test set\n",
    "y_train_pred4 = en.predict(train_X)\n",
    "y_test_pred4 = en.predict(val_X)\n",
    "\n",
    "#printing the results\n",
    "print(\"Train MSE: \", metrics.mean_absolute_error(train_y, y_train_pred4))\n",
    "print(\"Train RMSE: \", metrics.mean_squared_error(train_y, y_train_pred4))\n",
    "print(\"Train R2 Score: \", metrics.r2_score(train_y,y_train_pred4))\n",
    "print(\"Test MSE: \", metrics.mean_absolute_error(val_y, y_test_pred4))\n",
    "print(\"Test RMSE: \", np.sqrt(metrics.mean_squared_error(val_y, y_test_pred4)))\n",
    "print(\"Test R2 Score: \", metrics.r2_score(val_y,y_test_pred4))\n"
   ]
  },
  {
   "cell_type": "code",
   "execution_count": 22,
   "metadata": {},
   "outputs": [],
   "source": [
    "%%capture\n",
    "#creating a dataset consisting of test and train scores as columns with alpha bring constant to find optimum l1_ratio\n",
    "score_train = []\n",
    "score_val =[]\n",
    "l1 = []\n",
    "for x in np.arange(0.0, 1.0, 0.01):\n",
    "    en = linear_model.ElasticNet(alpha = 0.01, l1_ratio = x)\n",
    "    en.fit(train_X, train_y)\n",
    "    y_train_pred4 = en.predict(train_X)\n",
    "    y_test_pred4 = en.predict(val_X)\n",
    "    l1.append(x)\n",
    "    score_train.append(metrics.r2_score(train_y,y_train_pred4))\n",
    "    score_val.append(metrics.r2_score(val_y,y_test_pred4))\n",
    "\n",
    "df = {'l1_ratio':l1,'train_scores':score_train,'test_scores':score_val}\n",
    "l1_scores = pd.DataFrame(data = df)"
   ]
  },
  {
   "cell_type": "code",
   "execution_count": 23,
   "metadata": {},
   "outputs": [
    {
     "data": {
      "text/plain": [
       "<matplotlib.axes._subplots.AxesSubplot at 0x2a1fd6c3518>"
      ]
     },
     "execution_count": 23,
     "metadata": {},
     "output_type": "execute_result"
    },
    {
     "data": {
      "image/png": "[encoded data removed]",
      "text/plain": [
       "<matplotlib.figure.Figure at 0x2a1fd6c34a8>"
      ]
     },
     "metadata": {},
     "output_type": "display_data"
    }
   ],
   "source": [
    "#plotting to find the optimum value of l1 ratio\n",
    "import seaborn as sns\n",
    "sns.set_style('ticks')\n",
    "fig, ax = plt.subplots()\n",
    "fig.set_size_inches(18.5, 8.5)\n",
    "sns.regplot(x ='l1_ratio', y='train_scores', data = l1_scores, fit_reg = False, scatter = True)\n",
    "ax2 = ax.twinx()\n",
    "sns.regplot(x ='l1_ratio', y='test_scores', data = l1_scores, fit_reg = False, color = 'r', ax = ax2)"
   ]
  },
  {
   "cell_type": "markdown",
   "metadata": {},
   "source": [
    "The optimum value of l1 ratio can be observed to be 0.85"
   ]
  },
  {
   "cell_type": "code",
   "execution_count": 29,
   "metadata": {},
   "outputs": [],
   "source": [
    "%%capture\n",
    "#creating a dataset consisting of test and train scores as columns with alpha bring constant to find optimum l1_ratio\n",
    "score_train = []\n",
    "score_val =[]\n",
    "l1 = []\n",
    "alphas = [0.0001,0.001,0.01,0.1,1,10,100]\n",
    "for x in alphas:\n",
    "    en = linear_model.ElasticNet(alpha = x, l1_ratio = 0.85)\n",
    "    en.fit(train_X, train_y)\n",
    "    y_train_pred4 = en.predict(train_X)\n",
    "    y_test_pred4 = en.predict(val_X)\n",
    "    l1.append(x)\n",
    "    score_train.append(metrics.r2_score(train_y,y_train_pred4))\n",
    "    score_val.append(metrics.r2_score(val_y,y_test_pred4))\n",
    "\n",
    "df = {'alpha':alphas,'train_scores':score_train,'test_scores':score_val}\n",
    "l1_scores = pd.DataFrame(data = df)"
   ]
  },
  {
   "cell_type": "code",
   "execution_count": 30,
   "metadata": {},
   "outputs": [
    {
     "data": {
      "text/plain": [
       "<matplotlib.axes._subplots.AxesSubplot at 0x2a1fcdf63c8>"
      ]
     },
     "execution_count": 30,
     "metadata": {},
     "output_type": "execute_result"
    },
    {
     "data": {
      "image/png": "[encoded data removed]",
      "text/plain": [
       "<matplotlib.figure.Figure at 0x2a1fcdf65f8>"
      ]
     },
     "metadata": {},
     "output_type": "display_data"
    }
   ],
   "source": [
    "#plotting to find the optimum value of alpha\n",
    "import seaborn as sns\n",
    "sns.set_style('ticks')\n",
    "fig, ax = plt.subplots()\n",
    "ax.set(xscale=\"log\")\n",
    "fig.set_size_inches(18.5, 8.5)\n",
    "sns.regplot(x ='alpha', y='train_scores', data = l1_scores, fit_reg = False, scatter = True)\n",
    "ax2 = ax.twinx()\n",
    "sns.regplot(x ='alpha', y='test_scores', data = l1_scores, fit_reg = False, color = 'r', ax = ax2)"
   ]
  },
  {
   "cell_type": "markdown",
   "metadata": {},
   "source": [
    "It is evident that alpha corresponding to maximum of train and test set simultaneously is 0.1 "
   ]
  }
 ],
 "metadata": {
  "kernelspec": {
   "display_name": "Python 3",
   "language": "python",
   "name": "python3"
  },
  "language_info": {
   "codemirror_mode": {
    "name": "ipython",
    "version": 3
   },
   "file_extension": ".py",
   "mimetype": "text/x-python",
   "name": "python",
   "nbconvert_exporter": "python",
   "pygments_lexer": "ipython3",
   "version": "3.6.4"
  }
 },
 "nbformat": 4,
 "nbformat_minor": 2
}
